{
 "cells": [
  {
   "cell_type": "code",
   "execution_count": 23,
   "metadata": {
    "colab": {},
    "colab_type": "code",
    "id": "F-6bE0dYcBgA"
   },
   "outputs": [],
   "source": [
    "## Import stuff\n",
    " \n",
    "import numpy as np\n",
    "from sklearn import datasets, linear_model, metrics"
   ]
  },
  {
   "cell_type": "code",
   "execution_count": 24,
   "metadata": {
    "colab": {},
    "colab_type": "code",
    "id": "gK71NIhMcEs5"
   },
   "outputs": [],
   "source": [
    "## Load the diabetes dataset\n",
    "diabetes = datasets.load_diabetes()\n",
    "diabetes_X = diabetes.data # matrix of dimensions 442x10\n",
    " \n",
    "# Split the data into training/testing sets\n",
    "diabetes_X_train = diabetes_X[:-20]\n",
    "diabetes_X_test = diabetes_X[-20:]\n",
    " \n",
    "# Split the targets into training/testing sets\n",
    "diabetes_y_train = diabetes.target[:-20]\n",
    "diabetes_y_test = diabetes.target[-20:]"
   ]
  },
  {
   "cell_type": "code",
   "execution_count": 54,
   "metadata": {
    "colab": {},
    "colab_type": "code",
    "id": "XJTg22ybcHsl"
   },
   "outputs": [
    {
     "name": "stdout",
     "output_type": "stream",
     "text": [
      "Epoch 0: 14734.323460\n",
      "Epoch 1000: 1470.678993\n",
      "Epoch 2000: 1462.374918\n",
      "Epoch 3000: 1461.597500\n",
      "Epoch 4000: 1461.115426\n",
      "Epoch 5000: 1460.681489\n",
      "Epoch 6000: 1460.274698\n",
      "Epoch 7000: 1459.890058\n",
      "Epoch 8000: 1459.524748\n",
      "Epoch 9000: 1459.176718\n"
     ]
    }
   ],
   "source": [
    "# train\n",
    "X = diabetes_X_train\n",
    "y = diabetes_y_train\n",
    "m,n=X.shape\n",
    "a=np.ones((m,1))\n",
    "X = np.hstack((a,X))\n",
    "\n",
    "# train: init\n",
    "theta = np.zeros(11)\n",
    "learning_rate = 1\n",
    "epochs = 10000\n",
    " \n",
    "# train: gradient descent\n",
    "for i in range(epochs):\n",
    "    # calculate predictions\n",
    "    h = np.dot(X,theta)\n",
    " \n",
    "    # calculate error and cost (mean squared error)\n",
    "    error = h-y\n",
    "    J = 1/(2*m)*np.dot(error.T,error)\n",
    " \n",
    "    # calculate gradients\n",
    "    grad_theta = 1/m*np.dot(X.T,error)\n",
    " \n",
    "    # update parameters\n",
    "    theta -= learning_rate*grad_theta\n",
    " \n",
    "    # diagnostic output\n",
    "    if i % 1000 == 0: print(\"Epoch %d: %f\" % (i, J))"
   ]
  },
  {
   "cell_type": "code",
   "execution_count": 58,
   "metadata": {
    "colab": {},
    "colab_type": "code",
    "id": "uvSdTn-0cKJL"
   },
   "outputs": [
    {
     "name": "stdout",
     "output_type": "stream",
     "text": [
      "Coefficients: \n",
      " [   3.66162077 -234.66428413  519.39480725  325.58121803 -176.09741143\n",
      "  -16.44091006 -180.07233874  108.04606018  502.78371278   78.97034211]\n",
      "Mean squared error: 996.76\n",
      "==========================================================================================================================================================================================================\n"
     ]
    }
   ],
   "source": [
    "# test\n",
    "X = diabetes_X_test\n",
    "y = diabetes_y_test\n",
    "\n",
    "m,n=X.shape\n",
    "a=np.ones((m,1))\n",
    "X = np.hstack((a,X))\n",
    "# calculate predictions + calculate error and cost (same code as above)\n",
    "h = np.dot(X,theta)\n",
    "error = h-y\n",
    "J = 1/(2*m)*np.dot(error.T,error)\n",
    "\n",
    "print('Coefficients: \\n', W)\n",
    "print(\"Mean squared error: %.2f\" % J)\n",
    "print(\"=\"*202)"
   ]
  },
  {
   "cell_type": "code",
   "execution_count": null,
   "metadata": {},
   "outputs": [],
   "source": []
  }
 ],
 "metadata": {
  "colab": {
   "name": "week1assignment.ipynb",
   "provenance": []
  },
  "kernelspec": {
   "display_name": "Python 3",
   "language": "python",
   "name": "python3"
  },
  "language_info": {
   "codemirror_mode": {
    "name": "ipython",
    "version": 3
   },
   "file_extension": ".py",
   "mimetype": "text/x-python",
   "name": "python",
   "nbconvert_exporter": "python",
   "pygments_lexer": "ipython3",
   "version": "3.7.7"
  }
 },
 "nbformat": 4,
 "nbformat_minor": 1
}
